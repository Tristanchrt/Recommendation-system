{
 "cells": [
  {
   "cell_type": "markdown",
   "source": [
    "# Project CHRETIEN Tristan | DURAND Victor\n",
    "\n",
    "## Installation\n",
    "\n",
    "- Install kaggle using pip3 `pip3 install kaggle`\n",
    "- Connect to https://kaggle.com \n",
    "- Create an account \n",
    "- Generate API Keys on your account tab\n",
    "- Download kaggle.json file and store it under /home/${USER}/.kaggle/kaggle.json\n"
   ],
   "metadata": {}
  },
  {
   "cell_type": "markdown",
   "source": [
    "## Download dataset"
   ],
   "metadata": {}
  },
  {
   "cell_type": "code",
   "execution_count": null,
   "metadata": {},
   "outputs": [],
   "source": [
    "# Download dataset on kaggle\n",
    "import kaggle\n",
    "\n",
    "kaggle.api.authenticate()\n",
    "# assign directory\n",
    "directory=\"./\"\n",
    "kaggle.api.dataset_download_files('vishalsubbiah/pokemon-images-and-types', path=directory, unzip=True)"
   ],
   "outputs": [],
   "metadata": {}
  },
  {
   "cell_type": "markdown",
   "source": [
    "## Generate files metadata"
   ],
   "metadata": {}
  },
  {
   "cell_type": "code",
<<<<<<< HEAD
   "execution_count": null,
=======
   "execution_count": 6,
   "metadata": {},
   "outputs": [],
>>>>>>> 1baafe1c66b63d82aaa96f9d31a62961b088d20c
   "source": [
    "import os\n",
    "from PIL import Image\n",
    "from PIL.ExifTags import TAGS\n",
    "import pandas as pd\n",
    "import json\n",
    "import numpy as np\n",
    "import math\n",
    "from sklearn.cluster import KMeans\n",
    "import matplotlib.image as img\n",
    "\n",
    "\n",
    "def main_colors(imgfile):\n",
    "    numarray = np.array(imgfile.getdata(), np.uint8)\n",
    "    if len(numarray.shape) == 2:\n",
    "        clusters = KMeans(n_clusters = 5)\n",
    "        clusters.fit(numarray)\n",
    "        colors = []\n",
    "        for i in range(0,2):\n",
    "            color = '#%02x%02x%02x' % (\n",
    "                math.ceil(clusters.cluster_centers_[i][0]),\n",
    "                    math.ceil(clusters.cluster_centers_[i][1]), \n",
    "                math.ceil(clusters.cluster_centers_[i][2]))\n",
    "            colors.append(color)\n",
    "        return colors\n",
    "    else:\n",
    "        return ''\n",
    "\n",
    "\n",
    "df=pd.read_csv('images/pokemon.csv', sep=',',header=None, skiprows=1)\n",
    "df.replace(np.nan, \"\")\n",
<<<<<<< HEAD
    "id=0\n",
=======
    "id = 0\n",
>>>>>>> 1baafe1c66b63d82aaa96f9d31a62961b088d20c
    "json_data = []\n",
    "for filename in os.listdir(\"images/images/\")[:5]:\n",
    "    f = \"images/images/\" + filename\n",
    "    image = Image.open(f)\n",
    "    image = image.resize((120,120))\n",
    "    metadata = df.loc[df[0] == filename.split(\".\")[0]]\n",
    "\n",
    "    name = metadata[0].values[0]\n",
    "    id+=1\n",
    "    json_metadata = {\n",
    "        \"id\" : id,\n",
    "        \"properties\" : {\n",
    "            \"name\" : metadata[0].replace(np.nan, \"None\").values[0],\n",
    "            \"type1\" : metadata[1].replace(np.nan, \"None\").values[0],\n",
    "            \"type2\" : metadata[2].replace(np.nan, \"None\").values[0]\n",
    "        },\n",
    "        \"size\" : image.size,\n",
    "        \"main_colors\" : main_colors(image),\n",
    "        \"path\" : f \n",
    "    }\n",
    "    # json_metadata = json.dumps(json_metadata)\n",
    "    json_data.append(json_metadata)\n",
    "with open(\"images/metadata/metadata.json\", 'w+') as outfile:\n",
    "    outfile.write(json.dumps(json_data))"
   ],
   "outputs": [],
   "metadata": {}
  },
  {
   "cell_type": "code",
   "execution_count": null,
   "source": [],
   "outputs": [],
   "metadata": {}
  }
 ],
 "metadata": {
  "interpreter": {
   "hash": "db0f6cbdde3eb805f0a229b988d6bd72d452c42e640dd9958b4355934ec01bf5"
  },
  "kernelspec": {
   "name": "python3",
   "display_name": "Python 3.6.9 64-bit"
  },
  "language_info": {
   "codemirror_mode": {
    "name": "ipython",
    "version": 3
   },
   "file_extension": ".py",
   "mimetype": "text/x-python",
   "name": "python",
   "nbconvert_exporter": "python",
   "pygments_lexer": "ipython3",
   "version": "3.6.9"
  },
  "orig_nbformat": 4
 },
 "nbformat": 4,
 "nbformat_minor": 2
}