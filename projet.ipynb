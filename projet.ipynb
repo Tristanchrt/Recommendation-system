{
 "cells": [
  {
   "cell_type": "markdown",
   "source": [
    "# Project CHRETIEN Tristan | DURAND Victor\n",
    "\n",
    "## Installation\n",
    "\n",
    "- Install kaggle using pip3 `pip3 install kaggle`\n",
    "- Connect to https://kaggle.com \n",
    "- Create an account \n",
    "- Generate API Keys on your account tab\n",
    "- Download kaggle.json file and store it under /home/${USER}/.kaggle/kaggle.json\n"
   ],
   "metadata": {}
  },
  {
   "cell_type": "markdown",
   "source": [
    "## Download dataset"
   ],
   "metadata": {}
  },
  {
   "cell_type": "code",
   "execution_count": null,
   "source": [
    "# Download dataset on kaggle\n",
    "import kaggle\n",
    "\n",
    "kaggle.api.authenticate()\n",
    "# assign directory\n",
    "directory=\"./\"\n",
    "kaggle.api.dataset_download_files('vishalsubbiah/pokemon-images-and-types', path=directory, unzip=True)\n"
   ],
   "outputs": [],
   "metadata": {}
  },
  {
   "cell_type": "markdown",
   "source": [
    "## Generate files metadata"
   ],
   "metadata": {}
  },
  {
   "cell_type": "code",
   "execution_count": null,
   "source": [
    "import os\n",
    "from PIL import Image\n",
    "from PIL.ExifTags import TAGS\n",
    "import pandas as pd\n",
    "import json\n",
    "import numpy as np\n",
    "import math\n",
    "from sklearn.cluster import KMeans\n",
    "\n",
    "\n",
    "def kmens_img(image, nb_color):\n",
    "    numarray = np.array(image.getdata(), np.uint8)\n",
    "    clusters = KMeans(n_clusters = nb_color)\n",
    "    clusters.fit(numarray)\n",
    "    npbins = np.arange(0, nb_color+1)\n",
    "    histogram = np.histogram(clusters.labels_, bins=npbins)\n",
    "\n",
    "    color_list = []\n",
    "\n",
    "    for i in range(nb_color):\n",
    "        colors = '#%02x%02x%02x' % ( math.ceil(clusters.cluster_centers_[i][0]), \n",
    "                    math.ceil(clusters.cluster_centers_[i][1]),\n",
    "                    math.ceil(clusters.cluster_centers_[i][2]))\n",
    "        color_list.append(colors)\n",
    "\n",
    "    return sorted(histogram[0], reverse=True), color_list\n",
    "\n",
    "df=pd.read_csv('images/pokemon.csv', sep=',',header=None, skiprows=1)\n",
    "df.replace(np.nan, \"\")\n",
    "# print(df.values)\n",
    "json_data = []\n",
    "id = 0\n",
    "for filename in os.listdir(\"images/images/\"):\n",
    "    f = \"images/images/\" + filename\n",
    "    image = Image.open(f)\n",
    "    metadata = df.loc[df[0] == filename.split(\".\")[0]]\n",
    "    # print(image.getdata())\n",
    "    # histo, colors = kmens_img(image, 2)\n",
    "    name = metadata[0].values[0]\n",
    "    id+=1\n",
    "    json_metadata = {\n",
    "        \"id\" : id,\n",
    "        \"properties\" : {\n",
    "            \"name\" : metadata[0].replace(np.nan, \"None\").values[0],\n",
    "            \"type1\" : metadata[1].replace(np.nan, \"None\").values[0],\n",
    "            \"type2\" : metadata[2].replace(np.nan, \"None\").values[0]\n",
    "        },\n",
    "        \"size\" : image.size,\n",
    "        \"colors\" : '',\n",
    "        \"tags\" : [],\n",
    "        \"path\" : f \n",
    "    }\n",
    "    # json_metadata = json.dumps(json_metadata)\n",
    "    json_data.append(json_metadata)\n",
    "with open(\"images/metadata/metadata.json\", 'w+') as outfile:\n",
    "    outfile.write(json.dumps(json_data))"
   ],
   "outputs": [],
   "metadata": {}
  },
  {
   "cell_type": "markdown",
   "source": [
    "## Generating 10 users with images preferences"
   ],
   "metadata": {}
  },
  {
   "cell_type": "code",
   "execution_count": null,
   "source": [
    "import random\n",
    "import json\n",
    "with open(\"images/metadata/metadata.json\", 'r') as images_infos:\n",
    "    images_infos = json.load(images_infos)\n",
    "    print(images_infos[0])\n",
    "users_preferences = []\n",
    "\n",
    "number_of_users = 10\n",
    "for user_id in range(number_of_users):\n",
    "    favorites_index = random.sample(range(1,len(images_infos)), 8)\n",
    "    dislike_index = random.choices([i for i in range(1, len(images_infos)) if i not in favorites_index], k=8)\n",
    "\n",
    "    favorites_types = [[images_infos[index][\"properties\"][\"type1\"], images_infos[index][\"properties\"][\"type2\"]] for index in favorites_index]\n",
    "    disliked_types = [[images_infos[index][\"properties\"][\"type1\"], images_infos[index][\"properties\"][\"type2\"]] for index in dislike_index]\n",
    "    user_metadata = {\n",
    "        \"id\" : user_id +1,\n",
    "        \"favorites\" : favorites_index,\n",
    "        \"dislikes\" : dislike_index,\n",
    "        \"favorites_types\" : list(set(tuple(el) for el in favorites_types)),\n",
    "        \"^disliked_types\" : list(set(tuple(el) for el in disliked_types)),\n",
    "    }\n",
    "    users_preferences.append(user_metadata)\n",
    "with open(\"images/metadata/users_preferences.json\", 'w+') as outfile:\n",
    "    outfile.write(json.dumps(users_preferences))"
   ],
   "outputs": [],
   "metadata": {}
  },
  {
   "cell_type": "markdown",
   "source": [
    "## Visualisation des données (statistiques)"
   ],
   "metadata": {}
  },
  {
   "cell_type": "code",
   "execution_count": null,
   "source": [
    "import json\n",
    "import pandas as pd\n",
    "with open('images/metadata/metadata.json','r') as f:\n",
    "    data = json.loads(f.read())\n",
    "# df = pd.read_json('images/metadata/metadata.json')\n",
    "\n",
    "df = pd.json_normalize(\n",
    "    data, \n",
    "    record_path =['students'], \n",
    "    meta=[\n",
    "        'class',\n",
    "        ['properties', 'type1', 'types2'], \n",
    "        # ['info', 'contacts', 'tel']\n",
    "    ]\n",
    ")\n",
    "\n",
    "df.values()\n",
    "\n",
    "\n"
   ],
   "outputs": [],
   "metadata": {}
  },
  {
   "cell_type": "markdown",
   "source": [],
   "metadata": {}
  }
 ],
 "metadata": {
  "interpreter": {
   "hash": "916dbcbb3f70747c44a77c7bcd40155683ae19c65e1c03b4aa3499c5328201f1"
  },
  "kernelspec": {
   "name": "python3",
   "display_name": "Python 3.9.7 64-bit"
  },
  "language_info": {
   "codemirror_mode": {
    "name": "ipython",
    "version": 3
   },
   "file_extension": ".py",
   "mimetype": "text/x-python",
   "name": "python",
   "nbconvert_exporter": "python",
   "pygments_lexer": "ipython3",
   "version": "3.9.7"
  },
  "orig_nbformat": 4
 },
 "nbformat": 4,
 "nbformat_minor": 2
}