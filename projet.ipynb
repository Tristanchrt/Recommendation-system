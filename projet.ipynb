{
 "cells": [
  {
   "cell_type": "markdown",
   "metadata": {},
   "source": [
    "# Project CHRETIEN Tristan | DURAND Victor\n",
    "\n",
    "## Installation\n",
    "\n",
    "- Install kaggle using pip3 `pip3 install -r requirements.txt`\n",
    "- Connect to https://kaggle.com \n",
    "- Create an account \n",
    "- Generate API Keys on your account tab\n",
    "- Download kaggle.json file and store it under /home/${USER}/.kaggle/kaggle.json\n"
   ]
  },
  {
   "cell_type": "code",
   "execution_count": null,
   "metadata": {},
   "outputs": [
    {
     "ename": "",
     "evalue": "",
     "output_type": "error",
     "traceback": [
      "\u001b[1;31mFailed to start the Kernel. \n",
      "The Jupyter notebook server failed to launch in time. \n",
      "View Jupyter <a href='command:jupyter.viewOutput'>log</a> for further details."
     ]
    }
   ],
   "source": [
    "!pip3 install -r requirements.txt"
   ]
  },
  {
   "cell_type": "markdown",
   "metadata": {},
   "source": [
    "## Download dataset"
   ]
  },
  {
   "cell_type": "code",
   "execution_count": null,
   "metadata": {},
   "outputs": [
    {
     "ename": "",
     "evalue": "",
     "output_type": "error",
     "traceback": [
      "\u001b[1;31mFailed to start the Kernel. \n",
      "The Jupyter notebook server failed to launch in time. \n",
      "View Jupyter <a href='command:jupyter.viewOutput'>log</a> for further details."
     ]
    }
   ],
   "source": [
    "# Download dataset on kaggle\n",
    "import kaggle\n",
    "\n",
    "kaggle.api.authenticate()\n",
    "# assign directory\n",
    "directory=\"./\"\n",
    "kaggle.api.dataset_download_files('vishalsubbiah/pokemon-images-and-types', path=directory, unzip=True)"
   ]
  },
  {
   "cell_type": "markdown",
   "metadata": {},
   "source": [
    "## Generate files metadata"
   ]
  },
  {
   "cell_type": "code",
   "execution_count": null,
   "metadata": {},
   "outputs": [],
   "source": [
    "import os\n",
    "from PIL import Image\n",
    "from PIL import ImageColor\n",
    "from PIL.ExifTags import TAGS\n",
    "from matplotlib import widgets\n",
    "import pandas as pd\n",
    "import json\n",
    "import numpy as np\n",
    "import math\n",
    "from sklearn.cluster import KMeans\n",
    "import webcolors\n",
    "import progressbar\n",
    "\n",
    "\n",
    "def main_colors(imgfile):\n",
    "    numarray = np.array(imgfile.getdata(), np.uint8)\n",
    "    if len(numarray.shape) == 2:\n",
    "        clusters = KMeans(n_clusters = 2)\n",
    "        clusters.fit(numarray)\n",
    "        colors = []\n",
    "        for i in range(2):\n",
    "            color = '#%02x%02x%02x' % (\n",
    "                math.ceil(clusters.cluster_centers_[i][0]),\n",
    "                    math.ceil(clusters.cluster_centers_[i][1]), \n",
    "                math.ceil(clusters.cluster_centers_[i][2]))\n",
    "            colors.append(color)\n",
    "        return colors\n",
    "    else:\n",
    "        return ''\n",
    "\n",
    "def get_closest_color(rgb_triplet):\n",
    "    min_colours = {}\n",
    "    for key, name in webcolors.CSS21_HEX_TO_NAMES.items():\n",
    "        r_c, g_c, b_c = webcolors.hex_to_rgb(key)\n",
    "        rd = (r_c - rgb_triplet[0]) ** 2\n",
    "        gd = (g_c - rgb_triplet[1]) ** 2\n",
    "        bd = (b_c - rgb_triplet[2]) ** 2\n",
    "        min_colours[(rd + gd + bd)] = name\n",
    "    return min_colours[min(min_colours.keys())]\n",
    "\n",
    "df = pd.read_csv('images/pokemon.csv', sep=',',header=None, skiprows=1)\n",
    "df.replace(np.nan, \"\")\n",
    "json_data = []\n",
    "id = 0\n",
    "total = len([name for name in os.listdir(\"images/images/\")])\n",
    "bar = progressbar.ProgressBar(widgets=['Extraction : ', ' ',progressbar.Percentage(), progressbar.Bar(marker='#',left='[',right=']'),\n",
    "           ' '], maxval=total)\n",
    "bar.start()\n",
    "\n",
    "for filename in os.listdir(\"images/images/\")[:200]:\n",
    "    f = \"images/images/\" + filename\n",
    "    image = Image.open(f)\n",
    "    image = image.resize((120,120))\n",
    "    metadata = df.loc[df[0] == filename.split(\".\")[0]]\n",
    "  \n",
    "    closest_name_list = []\n",
    "    name = metadata[0].values[0]\n",
    "    main_colors_value = main_colors(image)\n",
    "    for i in range(len(main_colors_value)):\n",
    "        rgb_color = ImageColor.getcolor(main_colors_value[i], \"RGB\")\n",
    "        closest_name = get_closest_color(rgb_color)\n",
    "        closest_name_list.append(closest_name)  \n",
    "\n",
    "    id+=1\n",
    "    json_metadata = {\n",
    "        \"id\" : id,\n",
    "        \"properties\" : {\n",
    "            \"name\" : metadata[0].replace(np.nan, \"None\").values[0],\n",
    "            \"type1\" : metadata[1].replace(np.nan, \"None\").values[0],\n",
    "            \"type2\" : metadata[2].replace(np.nan, \"None\").values[0]\n",
    "        },\n",
    "        \"size\" : image.size,\n",
    "        \"colors\" : main_colors_value,\n",
    "        \"closest_colors\": closest_name_list,\n",
    "        \"tags\" : [],\n",
    "        \"path\" : f \n",
    "    }\n",
    "    bar.update(id)\n",
    "    json_data.append(json_metadata)\n",
    "bar.finish()"
   ]
  },
  {
   "cell_type": "markdown",
   "metadata": {},
   "source": [
    "### Write metadata to json file"
   ]
  },
  {
   "cell_type": "code",
   "execution_count": null,
   "metadata": {},
   "outputs": [
    {
     "ename": "",
     "evalue": "",
     "output_type": "error",
     "traceback": [
      "\u001b[1;31mFailed to start the Kernel. \n",
      "Jupyter server crashed. Unable to connect. \r\n",
      "Error code from jupyter: 1\n",
      "Traceback (most recent call last):\n",
      "  File \"/home/user/.local/bin/jupyter-notebook\", line 5, in <module>\n",
      "    from notebook.notebookapp import main\n",
      "ModuleNotFoundError: No module named 'notebook'. \n",
      "View Jupyter <a href='command:jupyter.viewOutput'>log</a> for further details."
     ]
    }
   ],
   "source": [
    "with open(\"images/metadata/metadata.json\", 'w+') as outfile:\n",
    "    outfile.write(json.dumps(json_data))"
   ]
  },
  {
   "cell_type": "markdown",
   "metadata": {},
   "source": [
    "### Data visualization"
   ]
  },
  {
   "cell_type": "code",
   "execution_count": null,
   "metadata": {},
   "outputs": [
    {
     "ename": "",
     "evalue": "",
     "output_type": "error",
     "traceback": [
      "\u001b[1;31mFailed to start the Kernel. \n",
      "The Jupyter notebook server failed to launch in time. \n",
      "View Jupyter <a href='command:jupyter.viewOutput'>log</a> for further details."
     ]
    }
   ],
   "source": [
    "import json\n",
    "import pandas as pd\n",
    "import matplotlib.pyplot as plt\n",
    "import squarify\n",
    "with open('images/metadata/metadata.json','r') as f:\n",
    "    data = json.loads(f.read())\n",
    "    dataFrame = pd.DataFrame(data)\n",
    "\n",
    "df = pd.read_json('images/metadata/metadata.json')\n",
    "\n",
    "df = pd.json_normalize(\n",
    "    data,  \n",
    "    meta=[\n",
    "        'class',\n",
    "        ['properties', 'type1', 'types2'],\n",
    "        'colors' \n",
    "    ]\n",
    ")\n",
    "\n",
    "## Count by type\n",
    "grouped_df = df.groupby(['properties.type1'])['properties.type1']\n",
    "print(grouped_df.describe())\n",
    "x = []\n",
    "y = []\n",
    "for key, item in grouped_df:\n",
    "    group = grouped_df.get_group(key)\n",
    "    x.append(key)\n",
    "    y.append(group.count())\n",
    "\n",
    "plt.bar(x,y )\n",
    "plt.show()\n",
    "\n",
    "### Colors bar \n",
    "count_by_colors = {}\n",
    "\n",
    "for el in data:\n",
    "    colors = el[\"closest_colors\"]\n",
    "    for color in colors:\n",
    "        if color in count_by_colors.keys():\n",
    "            count_by_colors[color] += 1\n",
    "        else: \n",
    "            count_by_colors[color] = 1\n",
    "\n",
    "plt.bar(range(len(count_by_colors)), list(count_by_colors.values()), align='center', color=count_by_colors.keys())\n",
    "plt.xticks(range(len(count_by_colors)), list(count_by_colors.keys()))\n",
    "plt.show()\n",
    "\n",
    "\n",
    "df = pd.DataFrame({'presence':count_by_colors.values(), 'color':count_by_colors.keys() })\n",
    "\n",
    "# plot it\n",
    "squarify.plot(sizes=df['presence'], label=df['color'], alpha=.8 ,color=count_by_colors.keys())\n",
    "plt.axis('off')\n",
    "plt.show()\n",
    "import matplotlib.image as mpimg\n",
    "\n",
    "_, axs = plt.subplots(2, 5, figsize=(8, 8))\n",
    "axs = axs.flatten()\n",
    "for ax in axs:\n",
    "    image = list(dataFrame.sample()['path'].items())[0][1]\n",
    "    img = mpimg.imread(image)\n",
    "    ax.imshow(img)\n",
    "plt.show()\n",
    "\n",
    "\n"
   ]
  },
  {
   "cell_type": "markdown",
   "metadata": {},
   "source": [
    "### Generate random users preferences"
   ]
  },
  {
   "cell_type": "markdown",
   "metadata": {},
   "source": [
    "Number of user to generate preferences :\n"
   ]
  },
  {
   "cell_type": "code",
   "execution_count": null,
   "metadata": {},
   "outputs": [],
   "source": [
    "number_of_user = 10 "
   ]
  },
  {
   "cell_type": "code",
   "execution_count": null,
   "metadata": {},
   "outputs": [],
   "source": [
    "import random\n",
    "import json\n",
    "import numpy as np\n",
    "\n",
    "with open(\"images/metadata/metadata.json\", 'r') as images_infos:\n",
    "    images_infos = json.load(images_infos)\n",
    "users_preferences = []\n",
    "\n",
    "for user_id in range(number_of_users):\n",
    "    favorites_index = random.sample(range(1,len(images_infos)), 8)\n",
    "    dislike_index = random.choices([i for i in range(1, len(images_infos)) if i not in favorites_index], k=8)\n",
    "\n",
    "    favorites_colors = [images_infos[index][\"closest_colors\"] for index in favorites_index if len(images_infos[index][\"closest_colors\"])]\n",
    "\n",
    "    favorites_types = [[images_infos[index][\"properties\"][\"type1\"], images_infos[index][\"properties\"][\"type2\"]] for index in favorites_index]\n",
    "    disliked_types = [[images_infos[index][\"properties\"][\"type1\"], images_infos[index][\"properties\"][\"type2\"]] for index in dislike_index]\n",
    "    user_metadata = {\n",
    "        \"id\" : user_id +1,\n",
    "        \"favorites\" : favorites_index,\n",
    "        \"dislikes\" : dislike_index,\n",
    "        \"favorites_types\" : list(set(tuple(el) for el in favorites_types)),\n",
    "        \"disliked_types\" : list(set(tuple(el) for el in disliked_types)),\n",
    "        \"colors\" : list(set(np.array(favorites_colors).ravel()))\n",
    "    }\n",
    "    users_preferences.append(user_metadata)\n",
    "with open(\"images/metadata/users_preferences.json\", 'w+') as outfile:\n",
    "    outfile.write(json.dumps(users_preferences))"
   ]
  },
  {
   "cell_type": "markdown",
   "metadata": {},
   "source": [
    "### Image recommandation based on user preferences"
   ]
  },
  {
   "cell_type": "code",
   "execution_count": null,
   "metadata": {},
   "outputs": [],
   "source": [
    "from sklearn import tree\n",
    "import pandas as pd\n",
    "from sklearn.preprocessing import LabelEncoder\n",
    "import json\n",
    "\n",
    "with open('images/metadata/metadata.json') as meta:\n",
    "    meta_data = json.load(meta)\n",
    "    colors_closet1 = [val['closest_colors'][0] if len(val['closest_colors']) > 1 else None for val in meta_data]\n",
    "    colors_closet2 = [val['closest_colors'][1] if len(val['closest_colors']) > 1 else None for val in meta_data]\n",
    "\n",
    "    colors1 = [val['colors'][0] if len(val['colors']) > 1 else None for val in meta_data]\n",
    "    colors2 = [val['colors'][1] if len(val['colors']) > 1 else None for val in meta_data]\n",
    "\n",
    "    df_images = pd.json_normalize(\n",
    "    meta_data,  \n",
    "        meta=[\n",
    "            'class',\n",
    "            ['properties', 'type1', 'types2'], \n",
    "        ]\n",
    "    )   \n",
    "    df_test = pd.json_normalize(\n",
    "    meta_data,  \n",
    "        meta=[\n",
    "            'class',\n",
    "            ['properties', 'type1', 'types2'], \n",
    "        ]\n",
    "    )   \n",
    "    df_images = df_images[df_images.columns[~df_images.columns.isin(['size', 'id','properties.name', 'tags', 'path', 'colors', 'closest_colors'])]]\n",
    "    df_images['colors1'] = colors1\n",
    "    df_images['colors2'] = colors2\n",
    "    df_images['colors_closet1'] = colors_closet1\n",
    "    df_images['colors_closet2'] = colors_closet2\n",
    "\n",
    "with open('images/metadata/users_preferences.json') as user_metadata:\n",
    "    user_data = json.load(user_metadata)\n",
    "    df_u = pd.json_normalize(user_data)\n",
    "\n",
    "    # favorites_types1 = [val['favorites_types'][0][0] if len(val['favorites_types']) > 1 else None for val in user_data]\n",
    "    # favorites_types2 = [val['favorites_types'][1][0] if len(val['favorites_types']) > 1 else None for val in user_data]\n",
    "    \n",
    "    # dislikes_types1 = [val['disliked_types'][0] if len(val['disliked_types']) > 1 else None for val in user_data]\n",
    "    # dislikes_types2 = [val['dislikes_types'][1] if len(val['dislikes_types']) > 1 else None for val in user_data]\n",
    "\n",
    "    # df_u = df_u[df_u.columns[~df_u.columns.isin(['favorites_types', 'disliked_types'])]]\n",
    "    # df_u['favorites_type1'] = favorites_types1\n",
    "    # df_u['favorites_type2'] = favorites_types2\n",
    "    # df_u['dislikes_types1'] = dislikes_types1 \n",
    "    # df_u['dislikes_types2'] = dislikes_types2\n",
    "\n",
    "\n",
    "\n",
    "le1 = LabelEncoder()\n",
    "df_images['colors1'] = le1.fit_transform(df_images['colors1'])\n",
    "df_images['colors2'] = le1.fit_transform(df_images['colors2'])\n",
    "\n",
    "le2 = LabelEncoder()\n",
    "df_images['colors_closet1'] = le2.fit_transform(df_images['colors_closet1'])\n",
    "df_images['colors_closet2'] = le2.fit_transform(df_images['colors_closet2'])\n",
    "\n",
    "le3 = LabelEncoder()\n",
    "df_images['properties.type2'] = le3.fit_transform(df_images['properties.type2'])\n",
    "df_images['properties.type1'] = le3.fit_transform(df_images['properties.type1'])\n",
    "\n",
    "train = df_images[:650]\n",
    "test = df_images[650:]\n",
    "# print(len(train) , len(test))\n",
    "\n",
    "dtc = tree.DecisionTreeClassifier()\n",
    "\n",
    "fitted_models = []\n",
    "\n",
    "def randomDf():\n",
    "    df = pd.DataFrame()\n",
    "    for i in range(8):\n",
    "        df = pd.concat([df, df_images.sample()], ignore_index = True, axis = 0)\n",
    "    return df\n",
    "\n",
    "label_likes = LabelEncoder()\n",
    "for index, row in df_u.iterrows():\n",
    "    fits = dtc.fit(randomDf(), label_likes.fit_transform(row['favorites']))\n",
    "    prediction = fits.predict(test)\n",
    "    print(df_test.iloc[label_likes.inverse_transform(prediction.reshape(-1, 1))])"
   ]
  }
 ],
 "metadata": {
  "interpreter": {
   "hash": "916dbcbb3f70747c44a77c7bcd40155683ae19c65e1c03b4aa3499c5328201f1"
  },
  "kernelspec": {
   "display_name": "Python 3 (ipykernel)",
   "language": "python",
   "name": "python3"
  },
  "language_info": {
   "codemirror_mode": {
    "name": "ipython",
    "version": 3
   },
   "file_extension": ".py",
   "mimetype": "text/x-python",
   "name": "python",
   "nbconvert_exporter": "python",
   "pygments_lexer": "ipython3",
   "version": "3.9.7"
  }
 },
 "nbformat": 4,
 "nbformat_minor": 2
}
